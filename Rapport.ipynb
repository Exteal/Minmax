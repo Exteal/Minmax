{
 "cells": [
  {
   "cell_type": "markdown",
   "metadata": {},
   "source": [
    "# Rapport projet MinMax\n",
    "\n",
    "- Ronan HOUEE\n",
    "- Paul-Tiberiu IORDACHE"
   ]
  },
  {
   "cell_type": "code",
   "execution_count": 1,
   "metadata": {},
   "outputs": [],
   "source": [
    "from projet import *\n",
    "from time import perf_counter as pc\n"
   ]
  },
  {
   "cell_type": "markdown",
   "metadata": {},
   "source": [
    "## 1. Morpion"
   ]
  },
  {
   "cell_type": "markdown",
   "metadata": {},
   "source": [
    "### 1.1 Morpion Aleatoire"
   ]
  },
  {
   "cell_type": "code",
   "execution_count": 2,
   "metadata": {},
   "outputs": [
    {
     "name": "stdout",
     "output_type": "stream",
     "text": [
      "[1, None, None]\n",
      "[2, 1, 2]\n",
      "[2, 1, 1]\n",
      "\n",
      "1\n"
     ]
    }
   ],
   "source": [
    "gagnant = Alea_Morpion()\n",
    "print(gagnant)"
   ]
  },
  {
   "cell_type": "markdown",
   "metadata": {},
   "source": [
    "### 1.2 Morpion en utilisant MinMax"
   ]
  },
  {
   "cell_type": "code",
   "execution_count": 3,
   "metadata": {},
   "outputs": [
    {
     "name": "stdout",
     "output_type": "stream",
     "text": [
      "[1, 2, 1]\n",
      "[1, 2, 2]\n",
      "[2, 1, 1]\n",
      "\n",
      "None\n"
     ]
    }
   ],
   "source": [
    "gagnant = MinMax_Morpion(15)\n",
    "print(gagnant)"
   ]
  },
  {
   "cell_type": "markdown",
   "metadata": {},
   "source": [
    "### 1.3 Statistiques / Performances Alea contre MinMax"
   ]
  },
  {
   "cell_type": "code",
   "execution_count": 4,
   "metadata": {},
   "outputs": [
    {
     "name": "stdout",
     "output_type": "stream",
     "text": [
      "Profondeur 1\n",
      "[1, 2, 1]\n",
      "[1, 2, 2]\n",
      "[2, 1, 1]\n",
      "\n",
      "Gagnant  None\n",
      "Profondeur 2\n",
      "[1, 2, 1]\n",
      "[1, 2, 2]\n",
      "[2, 1, 1]\n",
      "\n",
      "Gagnant  None\n",
      "Profondeur 3\n",
      "[1, 2, 1]\n",
      "[1, 2, 2]\n",
      "[2, 1, 1]\n",
      "\n",
      "Gagnant  None\n",
      "Profondeur 4\n",
      "[1, 2, 1]\n",
      "[1, 2, 2]\n",
      "[2, 1, 1]\n",
      "\n",
      "Gagnant  None\n",
      "Profondeur 5\n",
      "[1, 2, 1]\n",
      "[1, 2, 2]\n",
      "[2, 1, 1]\n",
      "\n",
      "Gagnant  None\n",
      "Profondeur 6\n",
      "[1, 2, 1]\n",
      "[1, 2, 2]\n",
      "[2, 1, 1]\n",
      "\n",
      "Gagnant  None\n",
      "Profondeur 7\n",
      "[1, 2, 1]\n",
      "[1, 2, 2]\n",
      "[2, 1, 1]\n",
      "\n",
      "Gagnant  None\n",
      "Profondeur 8\n",
      "[1, 2, 1]\n",
      "[1, 2, 2]\n",
      "[2, 1, 1]\n",
      "\n",
      "Gagnant  None\n",
      "Profondeur 9\n",
      "[1, 2, 1]\n",
      "[1, 2, 2]\n",
      "[2, 1, 1]\n",
      "\n",
      "Gagnant  None\n",
      "Profondeur 10\n",
      "[1, 2, 1]\n",
      "[1, 2, 2]\n",
      "[2, 1, 1]\n",
      "\n",
      "Gagnant  None\n",
      "[1, None, 2]\n",
      "[None, 2, 2]\n",
      "[1, 1, 1]\n",
      "\n",
      "Gagnant  1\n",
      "[None, 1, 1]\n",
      "[2, 2, 2]\n",
      "[None, 1, None]\n",
      "\n",
      "Gagnant  2\n",
      "[None, 2, 2]\n",
      "[1, 2, 1]\n",
      "[1, 2, 1]\n",
      "\n",
      "Gagnant  2\n",
      "[1, 2, 1]\n",
      "[1, 2, 1]\n",
      "[None, 2, 2]\n",
      "\n",
      "Gagnant  2\n",
      "[1, 1, 2]\n",
      "[1, 1, 2]\n",
      "[2, None, 2]\n",
      "\n",
      "Gagnant  2\n",
      "[2, 1, 1]\n",
      "[1, 1, 2]\n",
      "[2, 1, 2]\n",
      "\n",
      "Gagnant  1\n",
      "[2, 1, 2]\n",
      "[2, 1, 1]\n",
      "[1, 2, 1]\n",
      "\n",
      "Gagnant  None\n",
      "[2, 2, 2]\n",
      "[1, 2, 1]\n",
      "[1, None, 1]\n",
      "\n",
      "Gagnant  2\n",
      "[1, 1, 1]\n",
      "[1, 2, 2]\n",
      "[2, 1, 2]\n",
      "\n",
      "Gagnant  1\n",
      "[1, 2, 1]\n",
      "[2, 2, 1]\n",
      "[1, 1, 2]\n",
      "\n",
      "Gagnant  None\n"
     ]
    }
   ],
   "source": [
    "times_m = []\n",
    "times_a = []\n",
    "gagnant_m = []\n",
    "gagnant_a = []\n",
    "prof_max = 10\n",
    "\n",
    "for i in range(1, prof_max+1):\n",
    "    print(\"Profondeur\", i)\n",
    "    start = pc()\n",
    "    g = MinMax_Morpion(i)\n",
    "    print(\"Gagnant \", g)\n",
    "    gagnant_m.append(g)\n",
    "    end = pc()\n",
    "    tmp = end-start\n",
    "    times_m.append(tmp)\n",
    "\n",
    "\n",
    "for i in range(1, prof_max+1):\n",
    "    start = pc()\n",
    "    g = Alea_Morpion()\n",
    "    print(\"Gagnant \", g)\n",
    "    gagnant_a.append(g)\n",
    "    end = pc()\n",
    "    tmp2 = end-start\n",
    "    times_a.append(tmp2)\n"
   ]
  },
  {
   "cell_type": "markdown",
   "metadata": {},
   "source": [
    "#### 1.3.1 Temps d'execution Alea contre MinMax"
   ]
  },
  {
   "cell_type": "code",
   "execution_count": 5,
   "metadata": {},
   "outputs": [
    {
     "name": "stdout",
     "output_type": "stream",
     "text": [
      "29.987584899994545  secondes pour la profondeur 1\n",
      "30.022395300038625  secondes pour la profondeur 2\n",
      "30.065512500004843  secondes pour la profondeur 3\n",
      "29.558902200020384  secondes pour la profondeur 4\n",
      "29.42906039999798  secondes pour la profondeur 5\n",
      "29.74597749998793  secondes pour la profondeur 6\n",
      "29.475330299988855  secondes pour la profondeur 7\n",
      "29.39247969997814  secondes pour la profondeur 8\n",
      "29.495330899953842  secondes pour la profondeur 9\n",
      "29.572937200020533  secondes pour la profondeur 10\n",
      "\n",
      "Moyenne pour MinMax : 29.674551089998566 secondes\n",
      "Moyenne pour Alea : 0.00015269000432454049 secondes\n"
     ]
    }
   ],
   "source": [
    "for time in times_m:\n",
    "    print(time, \" secondes pour la profondeur\", times_m.index(time)+1)\n",
    "\n",
    "print(\"\")\n",
    "\n",
    "print(\"Moyenne pour MinMax :\", sum(times_m)/len(times_m), \"secondes\")\n",
    "print(\"Moyenne pour Alea :\", sum(times_a)/len(times_a), \"secondes\")"
   ]
  },
  {
   "cell_type": "markdown",
   "metadata": {},
   "source": [
    "- Comme attendu, l'aleatoire pour le jeu de morpion est beaucoup plus rapide, pourtant une strategie utilisant de l'aleatoire n'est pas forcement la meilleure."
   ]
  },
  {
   "cell_type": "markdown",
   "metadata": {},
   "source": [
    "#### 1.3.2 Statistiques de victoire Alea contre MinMax"
   ]
  },
  {
   "cell_type": "code",
   "execution_count": 6,
   "metadata": {},
   "outputs": [
    {
     "name": "stdout",
     "output_type": "stream",
     "text": [
      "Nombre de matchs nuls pour MinMax : 10\n",
      "Nombre de matchs nuls pour Alea : 2\n",
      "Pourcentage de matchs nuls pour MinMax : 100.0 %\n",
      "Pourcentage de matchs nuls pour Alea : 20.0 %\n"
     ]
    }
   ],
   "source": [
    "cpt = 0\n",
    "cpt2 = 0\n",
    "\n",
    "for g in gagnant_m:\n",
    "    if g == None:\n",
    "        cpt +=1\n",
    "\n",
    "for g in gagnant_a:\n",
    "    if g == None:\n",
    "        \n",
    "        cpt2 +=1\n",
    "\n",
    "print(\"Nombre de matchs nuls pour MinMax :\", cpt)\n",
    "print(\"Nombre de matchs nuls pour Alea :\", cpt2)\n",
    "\n",
    "print(\"Pourcentage de matchs nuls pour MinMax :\", cpt/len(gagnant_m)*100, \"%\")\n",
    "print(\"Pourcentage de matchs nuls pour Alea :\", cpt2/len(gagnant_a)*100, \"%\")"
   ]
  },
  {
   "cell_type": "markdown",
   "metadata": {},
   "source": [
    "- Comme nous pouvons le voir, la strategie MinMax renvoie toujours une egalite, donc les deux joueurs jouent optimalement, pourtant avec las strategie aleatoire il y a toujours des jeux avec un gagnant"
   ]
  },
  {
   "cell_type": "markdown",
   "metadata": {},
   "source": [
    "## 2. Allumettes"
   ]
  },
  {
   "cell_type": "markdown",
   "metadata": {},
   "source": [
    "### 2.1 Allumettes Random"
   ]
  },
  {
   "cell_type": "code",
   "execution_count": 2,
   "metadata": {},
   "outputs": [
    {
     "name": "stdout",
     "output_type": "stream",
     "text": [
      "Gagnant:  2\n"
     ]
    }
   ],
   "source": [
    "groupes = [1,3,5]\n",
    "\n",
    "g = random_Allu(groupes, len(groupes))\n",
    "print(\"Gagnant: \", g)"
   ]
  },
  {
   "cell_type": "markdown",
   "metadata": {},
   "source": [
    "### 2.2 Allumettes MinMax"
   ]
  },
  {
   "cell_type": "code",
   "execution_count": 3,
   "metadata": {},
   "outputs": [
    {
     "name": "stdout",
     "output_type": "stream",
     "text": [
      "Gagnant:  1\n"
     ]
    }
   ],
   "source": [
    "groupes = [1,3,5]\n",
    "\n",
    "profondeur = 15\n",
    "g = MinMax_Allu(groupes, len(groupes), profondeur)\n",
    "print(\"Gagnant: \", g)"
   ]
  },
  {
   "cell_type": "markdown",
   "metadata": {},
   "source": [
    "### 2.3 Allumettes Strategie Optimale"
   ]
  },
  {
   "cell_type": "code",
   "execution_count": 15,
   "metadata": {},
   "outputs": [
    {
     "name": "stdout",
     "output_type": "stream",
     "text": [
      "Gagnant:  1\n"
     ]
    }
   ],
   "source": [
    "groupes = [1,3,5]\n",
    "\n",
    "profondeur = 15\n",
    "g = Grundy_Allu(groupes, len(groupes))\n",
    "print(\"Gagnant: \", g)"
   ]
  },
  {
   "cell_type": "markdown",
   "metadata": {},
   "source": [
    "### 2.4 Statistiques / Performances"
   ]
  },
  {
   "cell_type": "markdown",
   "metadata": {},
   "source": [
    "#### 2.4.1 Temps d'execution Alea, MinMax, Optimale"
   ]
  },
  {
   "cell_type": "code",
   "execution_count": 15,
   "metadata": {},
   "outputs": [
    {
     "name": "stdout",
     "output_type": "stream",
     "text": [
      "conf   3 | 3 | 3\n",
      "conf   3 | 1 | 2\n",
      "conf   3 | 4 | 2\n",
      "conf   4 | 2 | 4\n",
      "conf   2 | 1 | 3\n",
      "conf   4 | 3 | 2\n",
      "conf   1 | 2 | 4\n",
      "conf   2 | 4 | 3\n",
      "conf   4 | 3 | 2\n",
      "conf   2 | 1 | 3\n",
      "{3 | 1 | 2: {<class 'projet.StrategieAleatoire'>: {'gagnant': 1,\n",
      "                                                   'temps': 3.5999983083456755e-05},\n",
      "             <class 'projet.StrategieMinMax'>: {'gagnant': 2,\n",
      "                                                'temps': 0.010393899981863797},\n",
      "             <class 'projet.StrategieGrundy'>: {'gagnant': 2,\n",
      "                                                'temps': 0.010254500026348978},\n",
      "             <class 'projet.StrategieGrundyOpti'>: {'gagnant': 1,\n",
      "                                                    'temps': 0.001224599953275174}},\n",
      " 2 | 1 | 3: {<class 'projet.StrategieAleatoire'>: {'gagnant': 2,\n",
      "                                                   'temps': 3.9700011257082224e-05},\n",
      "             <class 'projet.StrategieMinMax'>: {'gagnant': 2,\n",
      "                                                'temps': 0.009967999998480082},\n",
      "             <class 'projet.StrategieGrundy'>: {'gagnant': 2,\n",
      "                                                'temps': 0.010595600004307926},\n",
      "             <class 'projet.StrategieGrundyOpti'>: {'gagnant': 1,\n",
      "                                                    'temps': 0.0010923999943770468}},\n",
      " 1 | 2 | 4: {<class 'projet.StrategieAleatoire'>: {'gagnant': 1,\n",
      "                                                   'temps': 3.0199997127056122e-05},\n",
      "             <class 'projet.StrategieMinMax'>: {'gagnant': 1,\n",
      "                                                'temps': 0.04134120000526309},\n",
      "             <class 'projet.StrategieGrundy'>: {'gagnant': 1,\n",
      "                                                'temps': 0.030315499985590577},\n",
      "             <class 'projet.StrategieGrundyOpti'>: {'gagnant': 2,\n",
      "                                                    'temps': 0.0021026000031270087}},\n",
      " 3 | 4 | 2: {<class 'projet.StrategieAleatoire'>: {'gagnant': 2,\n",
      "                                                   'temps': 4.080001963302493e-05},\n",
      "             <class 'projet.StrategieMinMax'>: {'gagnant': 1,\n",
      "                                                'temps': 0.6327942000352778},\n",
      "             <class 'projet.StrategieGrundy'>: {'gagnant': 1,\n",
      "                                                'temps': 0.6324749000486918},\n",
      "             <class 'projet.StrategieGrundyOpti'>: {'gagnant': 2,\n",
      "                                                    'temps': 0.0026088000158779323}},\n",
      " 4 | 3 | 2: {<class 'projet.StrategieAleatoire'>: {'gagnant': 2,\n",
      "                                                   'temps': 4.900002386420965e-05},\n",
      "             <class 'projet.StrategieMinMax'>: {'gagnant': 1,\n",
      "                                                'temps': 0.6366964999469928},\n",
      "             <class 'projet.StrategieGrundy'>: {'gagnant': 1,\n",
      "                                                'temps': 0.6257789999945089},\n",
      "             <class 'projet.StrategieGrundyOpti'>: {'gagnant': 2,\n",
      "                                                    'temps': 0.0028455000137910247}},\n",
      " 2 | 4 | 3: {<class 'projet.StrategieAleatoire'>: {'gagnant': 2,\n",
      "                                                   'temps': 2.629996743053198e-05},\n",
      "             <class 'projet.StrategieMinMax'>: {'gagnant': 1,\n",
      "                                                'temps': 0.6383309999946505},\n",
      "             <class 'projet.StrategieGrundy'>: {'gagnant': 1,\n",
      "                                                'temps': 0.6254675000091083},\n",
      "             <class 'projet.StrategieGrundyOpti'>: {'gagnant': 2,\n",
      "                                                    'temps': 0.0029605000163428485}},\n",
      " 4 | 2 | 4: {<class 'projet.StrategieAleatoire'>: {'gagnant': 1,\n",
      "                                                   'temps': 3.220001235604286e-05},\n",
      "             <class 'projet.StrategieMinMax'>: {'gagnant': 1,\n",
      "                                                'temps': 2.2621207000338472},\n",
      "             <class 'projet.StrategieGrundy'>: {'gagnant': 1,\n",
      "                                                'temps': 2.414975800027605},\n",
      "             <class 'projet.StrategieGrundyOpti'>: {'gagnant': 2,\n",
      "                                                    'temps': 0.005829400033690035}},\n",
      " 3 | 3 | 3: {<class 'projet.StrategieAleatoire'>: {'gagnant': 1,\n",
      "                                                   'temps': 6.839999696239829e-05},\n",
      "             <class 'projet.StrategieMinMax'>: {'gagnant': 1,\n",
      "                                                'temps': 0.7708400000119582},\n",
      "             <class 'projet.StrategieGrundy'>: {'gagnant': 1,\n",
      "                                                'temps': 0.7370942999841645},\n",
      "             <class 'projet.StrategieGrundyOpti'>: {'gagnant': 2,\n",
      "                                                    'temps': 0.003009399981237948}}}\n"
     ]
    }
   ],
   "source": [
    "import pprint\n",
    "\n",
    "loops = 10\n",
    "taille_groupes = 3\n",
    "maxallu = 4\n",
    "profondeur = 6\n",
    "\n",
    "times = comparaison_methodes_Allu(loops, taille_groupes, maxallu, profondeur)\n",
    "\n",
    "p = pprint.PrettyPrinter()\n",
    "\n",
    "p.pprint(times)"
   ]
  },
  {
   "cell_type": "markdown",
   "metadata": {},
   "source": [
    "- Comme nous pouvons constater, la strategie aleatoire est la plus rapide. Ensuite, MinMax est la plus lente et la strategie Optimale se trouve toujours entre le temps d'execution de la strategie random et de celle MinMax"
   ]
  },
  {
   "cell_type": "markdown",
   "metadata": {},
   "source": [
    "#### 2.4.2 Statistiques de victoire"
   ]
  },
  {
   "cell_type": "code",
   "execution_count": 16,
   "metadata": {},
   "outputs": [
    {
     "name": "stdout",
     "output_type": "stream",
     "text": [
      "Joueur 1 a gagné 4 fois avec la stratégie aléatoire\n",
      "Joueur 2 a gagné 4 fois avec la stratégie aléatoire\n",
      "Joueur 1 a gagné 6 fois avec la stratégie MinMax\n",
      "Joueur 2 a gagné 2 fois avec la stratégie MinMax\n",
      "Joueur 1 a gagné 6 fois avec la stratégie Grundy\n",
      "Joueur 2 a gagné 2 fois avec la stratégie Grundy\n"
     ]
    }
   ],
   "source": [
    "j1_alea = 0\n",
    "j2_alea = 0\n",
    "j1_minmax = 0\n",
    "j2_minmax = 0\n",
    "j1_grundy = 0\n",
    "j2_grundy = 0\n",
    "\n",
    "\n",
    "for c, config in times.items():\n",
    "    for z, gagnant in config.items():\n",
    "\n",
    "        if(z == StrategieAleatoire):\n",
    "            if gagnant[\"gagnant\"] == 1:\n",
    "                j1_alea +=1\n",
    "            else:\n",
    "                j2_alea +=1\n",
    "\n",
    "        if(z == StrategieMinMax):\n",
    "            if gagnant[\"gagnant\"] == 1:\n",
    "                j1_minmax +=1\n",
    "            else:\n",
    "                j2_minmax +=1\n",
    "\n",
    "        if(z == StrategieGrundy):\n",
    "            if gagnant[\"gagnant\"] == 1:\n",
    "                j1_grundy +=1\n",
    "            else:\n",
    "                j2_grundy +=1\n",
    "\n",
    "\n",
    "\n",
    "print(\"Joueur 1 a gagné\", j1_alea, \"fois avec la stratégie aléatoire\")\n",
    "print(\"Joueur 2 a gagné\", j2_alea, \"fois avec la stratégie aléatoire\")\n",
    "\n",
    "print(\"Joueur 1 a gagné\", j1_minmax, \"fois avec la stratégie MinMax\")\n",
    "print(\"Joueur 2 a gagné\", j2_minmax, \"fois avec la stratégie MinMax\")\n",
    "\n",
    "print(\"Joueur 1 a gagné\", j1_grundy, \"fois avec la stratégie Grundy\")\n",
    "print(\"Joueur 2 a gagné\", j2_grundy, \"fois avec la stratégie Grundy\")\n"
   ]
  },
  {
   "cell_type": "markdown",
   "metadata": {},
   "source": [
    "- Nous observons qu'en utilisant une strategie Optimale (avec grundy) ou MinMax, nous obtenons les memes resultats sur les victoires, pourtant avec une strategie aleatoire nous obtenons un ratio de victoire plus faible pour le joueur 1"
   ]
  }
 ],
 "metadata": {
  "kernelspec": {
   "display_name": "Python 3",
   "language": "python",
   "name": "python3"
  },
  "language_info": {
   "codemirror_mode": {
    "name": "ipython",
    "version": 3
   },
   "file_extension": ".py",
   "mimetype": "text/x-python",
   "name": "python",
   "nbconvert_exporter": "python",
   "pygments_lexer": "ipython3",
   "version": "3.11.9"
  }
 },
 "nbformat": 4,
 "nbformat_minor": 2
}
